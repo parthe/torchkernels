{
 "cells": [
  {
   "cell_type": "markdown",
   "metadata": {},
   "source": [
    "# Linear Ridge regression using Laplacian random features"
   ]
  },
  {
   "cell_type": "code",
   "execution_count": 1,
   "metadata": {},
   "outputs": [],
   "source": [
    "import matplotlib.pyplot as plt\n",
    "import torch\n",
    "from torchmetrics.classification import MulticlassAccuracy, MulticlassCalibrationError\n",
    "from utils import load_fmnist\n",
    "from tqdm.notebook import trange\n",
    "import torch.nn.functional as F\n",
    "from torchkernels.feature_maps import LaplacianRFF"
   ]
  },
  {
   "cell_type": "code",
   "execution_count": 2,
   "metadata": {},
   "outputs": [],
   "source": [
    "DEVICE = torch.device('cpu')\n",
    "X_train, X_test, y_train, y_test = load_fmnist(device=DEVICE)\n",
    "n, d = X_train.shape\n",
    "c = len(y_train.unique())\n",
    "y_train_onehot = F.one_hot(y_train, num_classes=c).float()\n",
    "y_test_onehot = F.one_hot(y_test, num_classes=c).float()"
   ]
  },
  {
   "cell_type": "markdown",
   "metadata": {},
   "source": [
    "### Define random feature map"
   ]
  },
  {
   "cell_type": "code",
   "execution_count": 3,
   "metadata": {},
   "outputs": [],
   "source": [
    "p = 1024 # number of random features\n",
    "feature_map = LaplacianRFF(input_dim=d, num_features=p, device = DEVICE)"
   ]
  },
  {
   "cell_type": "markdown",
   "metadata": {},
   "source": [
    "### Training Setup"
   ]
  },
  {
   "cell_type": "code",
   "execution_count": null,
   "metadata": {},
   "outputs": [],
   "source": [
    "acc = MulticlassAccuracy(num_classes=c)\n",
    "ece = MulticlassCalibrationError(num_classes=c)\n",
    "w = torch.zeros(p, c, requires_grad=True)\n",
    "lam = 1e-4 # Regularization strength"
   ]
  },
  {
   "cell_type": "code",
   "execution_count": 5,
   "metadata": {},
   "outputs": [],
   "source": [
    "Phi = feature_map(X_train)\n",
    "w = torch.linalg.solve(Phi.T@Phi + lam*torch.eye(p), Phi.T@y_train_onehot)\n",
    "\n",
    "y_hat_train = Phi@w\n",
    "y_hat_test = feature_map(X_test)@w"
   ]
  },
  {
   "cell_type": "markdown",
   "metadata": {},
   "source": [
    "## Metrics"
   ]
  },
  {
   "cell_type": "code",
   "execution_count": 6,
   "metadata": {},
   "outputs": [
    {
     "name": "stdout",
     "output_type": "stream",
     "text": [
      "Train accuracy:     0.862\n",
      "Test accuracy:      0.843\n",
      "----------------------------------------\n",
      "Train ECE:          0.671\n",
      "Test ECE:           0.653\n"
     ]
    }
   ],
   "source": [
    "print(f\"Train accuracy:{' '*5}{acc(y_hat_train, y_train):.3f}\")\n",
    "print(f\"Test accuracy:{' '*6}{acc(y_hat_test, y_test):.3f}\")\n",
    "print(\"--\"*20)\n",
    "print(f\"Train ECE:{' '*10}{ece(y_hat_train, y_train):.3f}\")\n",
    "print(f\"Test ECE:{' '*11}{ece(y_hat_test, y_test):.3f}\")"
   ]
  }
 ],
 "metadata": {
  "kernelspec": {
   "display_name": "fml_725",
   "language": "python",
   "name": "python3"
  },
  "language_info": {
   "codemirror_mode": {
    "name": "ipython",
    "version": 3
   },
   "file_extension": ".py",
   "mimetype": "text/x-python",
   "name": "python",
   "nbconvert_exporter": "python",
   "pygments_lexer": "ipython3",
   "version": "3.8.17"
  }
 },
 "nbformat": 4,
 "nbformat_minor": 2
}
